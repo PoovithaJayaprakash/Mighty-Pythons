{
 "cells": [
  {
   "cell_type": "markdown",
   "id": "9c925f13",
   "metadata": {},
   "source": [
    "1.Make a pair plot on Readmission Registry table & do u see any correlation between columns values."
   ]
  },
  {
   "cell_type": "code",
   "execution_count": null,
   "id": "240d3310",
   "metadata": {},
   "outputs": [],
   "source": []
  },
  {
   "cell_type": "markdown",
   "id": "f5c19c56",
   "metadata": {},
   "source": [
    "2.Using iloc, retrieve the firstname and lastname of patients between indices 101 and 200.\n"
   ]
  },
  {
   "cell_type": "code",
   "execution_count": null,
   "id": "c81e94d1",
   "metadata": {},
   "outputs": [],
   "source": []
  },
  {
   "cell_type": "markdown",
   "id": "95c1f50a",
   "metadata": {},
   "source": [
    "3.Create a figure object called fig using plt.figure() **\n",
    " ** Use add_axes to add an axis to the figure canvas at [0,0,1,1]. Call this new axis ax. **\n",
    " ** Plot (x,y) on that axes and set the labels.\n",
    " Note : You can plot on any x,y set of values.\n",
    "To enable screen reader support, press Ctrl+Alt+Z To learn about keyboard shortcuts, press Ctrl+slash\n",
    " \n"
   ]
  },
  {
   "cell_type": "code",
   "execution_count": null,
   "id": "b05ca519",
   "metadata": {},
   "outputs": [],
   "source": []
  },
  {
   "cell_type": "markdown",
   "id": "2d83a498",
   "metadata": {},
   "source": [
    "4.Display data by splitting age in 4 quartiles and labeling the quartiles."
   ]
  },
  {
   "cell_type": "markdown",
   "id": "d31c3750",
   "metadata": {},
   "source": [
    "5.Display full name of patients who are born in 1986."
   ]
  },
  {
   "cell_type": "code",
   "execution_count": null,
   "id": "c4fe0a70",
   "metadata": {},
   "outputs": [],
   "source": []
  },
  {
   "cell_type": "markdown",
   "id": "bf1ab928",
   "metadata": {},
   "source": [
    "6.Create a jointplot on expected mortality & expected length of stay."
   ]
  },
  {
   "cell_type": "code",
   "execution_count": null,
   "id": "3e6a46cf",
   "metadata": {},
   "outputs": [],
   "source": []
  },
  {
   "cell_type": "markdown",
   "id": "56aae4a8",
   "metadata": {},
   "source": [
    "7.Create a pair plot on whole dataframe by taking parameter \"hue\" as EDDisposition."
   ]
  },
  {
   "cell_type": "code",
   "execution_count": null,
   "id": "65804aea",
   "metadata": {},
   "outputs": [],
   "source": []
  },
  {
   "cell_type": "markdown",
   "id": "5a0369f9",
   "metadata": {},
   "source": [
    "8.Create a bar chart between expectedLOS & Primary diagnosis."
   ]
  },
  {
   "cell_type": "code",
   "execution_count": null,
   "id": "6b588f03",
   "metadata": {},
   "outputs": [],
   "source": []
  },
  {
   "cell_type": "markdown",
   "id": "de59c942",
   "metadata": {},
   "source": [
    "9. Get the list of patient ID's which are not there in ReadmissionRegistry."
   ]
  },
  {
   "cell_type": "code",
   "execution_count": null,
   "id": "2431a8ec",
   "metadata": {},
   "outputs": [],
   "source": []
  },
  {
   "cell_type": "markdown",
   "id": "6a004d4b",
   "metadata": {},
   "source": [
    "10. Create a boxplot on ExpectedLOS by taking service into account."
   ]
  },
  {
   "cell_type": "code",
   "execution_count": null,
   "id": "f58c878a",
   "metadata": {},
   "outputs": [],
   "source": []
  }
 ],
 "metadata": {
  "kernelspec": {
   "display_name": "Python 3 (ipykernel)",
   "language": "python",
   "name": "python3"
  },
  "language_info": {
   "codemirror_mode": {
    "name": "ipython",
    "version": 3
   },
   "file_extension": ".py",
   "mimetype": "text/x-python",
   "name": "python",
   "nbconvert_exporter": "python",
   "pygments_lexer": "ipython3",
   "version": "3.9.12"
  }
 },
 "nbformat": 4,
 "nbformat_minor": 5
}
